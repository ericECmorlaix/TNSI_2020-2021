{
 "cells": [
  {
   "cell_type": "markdown",
   "metadata": {},
   "source": [
    "# Poppy Ergo Jr :\n",
    "\n",
    "![Poppy Ergo Jr](http://docs.poppy-project.org/en/assembly-guides/ergo-jr/img/ergo_tools.gif)\n",
    "\n",
    "## 1 - L'interface\n",
    "\n",
    "#### Installer puis Ouvrir V-REP :\n",
    "\n",
    "- https://download.informer.com/win-1192064311-5caa03d8-6f6f4a13/v-rep_pro_edu_v3_3_0_setup.exe\n",
    "\n",
    "> Des versions plus récentes existent mais celle là fonctionne...\n",
    "\n",
    "#### Installer Python (si ce n'est pas déjà fait) :\n",
    "\n",
    "- https://www.python.org/downloads/ (ou une distribution [Ananconda](https://www.anaconda.com/products/individual))\n",
    "\n",
    "> cocher la case pour l'ajouter au PATH (sauf pour Anaconda)\n",
    "\n",
    "#### Installer Poppy, Notebook, puis Ouvrir Jupyter\n",
    "\n",
    "Dans un terminal en ligne de commande :\n",
    "\n",
    "- `pip install poppy-ergo-jr`\n",
    "\n",
    "- `pip install poppy-torso`\n",
    "\n",
    "- `pip install poppy-humanoid`\n",
    "\n",
    "- `pip install notebook` (sauf si Anaconda est installé)\n",
    "\n",
    "- `jupyter notebook`\n",
    "\n",
    "\n",
    "## 2 - Instancier Ergo_Jr\n",
    "\n",
    "Pour démarrer la simulation ; éxécuter les commandes suivantes:"
   ]
  },
  {
   "cell_type": "code",
   "execution_count": null,
   "metadata": {},
   "outputs": [],
   "source": [
    "from poppy_ergo_jr import PoppyErgoJr\n",
    "creature = PoppyErgoJr(simulator='vrep')"
   ]
  },
  {
   "cell_type": "markdown",
   "metadata": {},
   "source": [
    "## 3 - Redémarrer la simulatiuon "
   ]
  },
  {
   "cell_type": "code",
   "execution_count": null,
   "metadata": {},
   "outputs": [],
   "source": [
    "creature.reset_simulation()"
   ]
  },
  {
   "cell_type": "markdown",
   "metadata": {},
   "source": [
    "## 4 - Eteindre la simulation"
   ]
  },
  {
   "cell_type": "code",
   "execution_count": null,
   "metadata": {},
   "outputs": [],
   "source": [
    "creature.stop_simulation()"
   ]
  },
  {
   "cell_type": "code",
   "execution_count": null,
   "metadata": {},
   "outputs": [],
   "source": [
    "import pypot"
   ]
  },
  {
   "cell_type": "code",
   "execution_count": null,
   "metadata": {},
   "outputs": [],
   "source": [
    "pypot.vrep.close_all_connections()"
   ]
  },
  {
   "cell_type": "code",
   "execution_count": null,
   "metadata": {},
   "outputs": [],
   "source": [
    "Puis re-instancier un nouveau Ergo_Jr"
   ]
  },
  {
   "cell_type": "code",
   "execution_count": 1,
   "metadata": {},
   "outputs": [],
   "source": [
    "from poppy_ergo_jr import PoppyErgoJr\n",
    "ergo = PoppyErgoJr(simulator='vrep')"
   ]
  },
  {
   "cell_type": "markdown",
   "metadata": {},
   "source": [
    "## 5 - Moteurs \n",
    "\n",
    "##### Ergo, comment tu fonctionnes?"
   ]
  },
  {
   "cell_type": "code",
   "execution_count": 2,
   "metadata": {},
   "outputs": [
    {
     "name": "stdout",
     "output_type": "stream",
     "text": [
      "J'ai 6 moteurs\n",
      "ils sont tous indexés dans une <class 'list'>, qui s'appelle ergo.motors \n",
      "\n",
      " la voici: \n",
      "-------------\n",
      "nom du moteur: m1 | identifiant : 1\n",
      "position actuelle du moteur: 2.3 degrès\n",
      "-------------\n",
      "nom du moteur: m2 | identifiant : 2\n",
      "position actuelle du moteur: 1.5 degrès\n",
      "-------------\n",
      "nom du moteur: m3 | identifiant : 3\n",
      "position actuelle du moteur: 0.0 degrès\n",
      "-------------\n",
      "nom du moteur: m4 | identifiant : 4\n",
      "position actuelle du moteur: -0.1 degrès\n",
      "-------------\n",
      "nom du moteur: m5 | identifiant : 5\n",
      "position actuelle du moteur: 0.2 degrès\n",
      "-------------\n",
      "nom du moteur: m6 | identifiant : 6\n",
      "position actuelle du moteur: -0.0 degrès\n"
     ]
    }
   ],
   "source": [
    "print(f\"J'ai {len(ergo.motors)} moteurs\")\n",
    "print(f\"ils sont tous indexés dans une {type(ergo.motors)}, qui s'appelle ergo.motors \\n\\n la voici: \")\n",
    "for m in ergo.motors :\n",
    "    print (\"-------------\")\n",
    "    print (f\"nom du moteur: {m.name} | identifiant : {m.id}\")\n",
    "    print (f\"position actuelle du moteur: {m.present_position} degrès\")"
   ]
  },
  {
   "cell_type": "markdown",
   "metadata": {},
   "source": [
    "##### Explication:\n",
    "\n",
    "Ici on utilise une liste pour stocker le nom des moteurs: ergo.motors\n",
    "\n",
    "chaque moteur possède:\n",
    "\n",
    "- un nom ; exemple : `ergo.motors.name`\n",
    "- une id ; exemple : `ergo.motors.id`\n",
    "- une position courante ; exemple : `ergo.motors.present_position`\n",
    "\n",
    "<img src=\"http://docs.poppy-project.org/en/assembly-guides/ergo-jr/img/assembly/motors.png\" alt=\"Motors list\" height=\"200\">"
   ]
  },
  {
   "cell_type": "markdown",
   "metadata": {},
   "source": [
    "## 6 - Bouger \n",
    "\n",
    "### Fonction 'goal_position'\n",
    "\n",
    "##### Ergo, tu es prêt ?"
   ]
  },
  {
   "cell_type": "code",
   "execution_count": 3,
   "metadata": {},
   "outputs": [],
   "source": [
    "# éteindre la simulation précédente...\n",
    "import pypot\n",
    "ergo.stop_simulation()\n",
    "pypot.vrep.close_all_connections()"
   ]
  },
  {
   "cell_type": "code",
   "execution_count": 4,
   "metadata": {},
   "outputs": [],
   "source": [
    "# ...avant d'en démarrer une nouvelle.\n",
    "from poppy_ergo_jr import PoppyErgoJr\n",
    "# ergo = PoppyErgoJr(simulator='vrep')\n",
    "# You can also change the end effector tools if you precise the V-REP scene\n",
    "# ergo = PoppyErgoJr(simulator='vrep', scene=\"poppy_ergo_jr_holder.ttt\")\n",
    "ergo = PoppyErgoJr(simulator='vrep', scene=\"poppy_ergo_jr_empty.ttt\")"
   ]
  },
  {
   "cell_type": "code",
   "execution_count": 5,
   "metadata": {},
   "outputs": [],
   "source": [
    "# Ergo tourne\n",
    "import time\n",
    "for i in range(2):\n",
    "    ergo.m1.goal_position = -30\n",
    "    time.sleep(1)\n",
    "    ergo.m1.goal_position = +30\n",
    "    time.sleep(1)\n",
    "ergo.m1.goal_position = 0"
   ]
  },
  {
   "cell_type": "markdown",
   "metadata": {},
   "source": [
    "##### Explication:\n",
    "\n",
    "Ici on utilise la fonction '<b>goal_position</b>', précédée du nom du moteur, précédé du nom de la créature.\n",
    "\n",
    "Elle accepte des valeurs de positions allant de -180° à +180°<br>\n",
    "\n",
    "Les lignes de code s'exécutent de façon quasi instantannées ; même si la position (demandée en ligne précédente) n'a pas été atteinte.\n",
    "\n",
    "Le module 'Time' nous permet d'attendre (grâce à la fonction 'time.sleep') que le moteur ai atteint la position voulue avant d'exécuter la commande suivante."
   ]
  },
  {
   "cell_type": "markdown",
   "metadata": {},
   "source": [
    "### Fonction 'goto_position'\n",
    "\n",
    "##### Bonjour Ergo"
   ]
  },
  {
   "cell_type": "code",
   "execution_count": 6,
   "metadata": {},
   "outputs": [],
   "source": [
    "# Ergo tourne\n",
    "for i in range(2):\n",
    "    ergo.m1.goto_position(-30,1,)\n",
    "    ergo.m1.goto_position(+30,1)\n",
    "ergo.m1.goal_position = 0"
   ]
  },
  {
   "cell_type": "code",
   "execution_count": 7,
   "metadata": {},
   "outputs": [],
   "source": [
    "# Ergo tourne\n",
    "for i in range(2):\n",
    "    ergo.m1.goto_position(-30,1,wait=True)\n",
    "    ergo.m1.goto_position(+30,1,wait=True)\n",
    "ergo.m1.goal_position = 0"
   ]
  },
  {
   "cell_type": "markdown",
   "metadata": {},
   "source": [
    "##### Explication:\n",
    "\n",
    "Ici on utilise la fonction '<b>goto_position</b>', précédée du nom du moteur, précédé du nom de la créature.\n",
    "\n",
    "Elle accepte entre 2 et 3 paramètres:\n",
    " - la position en dégrès\n",
    " - le temps en secondes pour atteindre cette position\n",
    " - paramètre facultatif 'wait=True'\n",
    " \n",
    "L'option 'wait=True' permet d'attendre que la position soit atteinte avant de passer à la ligne suivante.<br>\n",
    "Par défaut 'wait=False' ne bloque pas le défilement, on peut donc lancer plusieurs moteurs au même moment."
   ]
  },
  {
   "cell_type": "markdown",
   "metadata": {},
   "source": [
    "## A vous de jouer\n",
    "\n",
    "Créer une combinaison de mouvement pour que Ergo_Jr danse !"
   ]
  },
  {
   "cell_type": "code",
   "execution_count": null,
   "metadata": {},
   "outputs": [],
   "source": [
    "# Ergo danse :\n"
   ]
  },
  {
   "cell_type": "code",
   "execution_count": null,
   "metadata": {},
   "outputs": [],
   "source": [
    "# RAPPEL, pour relancer la simulation\n",
    "ergo.reset_simulation()"
   ]
  },
  {
   "cell_type": "markdown",
   "metadata": {},
   "source": [
    "# Tester d'autres créatures :\n",
    "\n",
    "## Ergo, y a t-il d'autres créatures comme toi ?"
   ]
  },
  {
   "cell_type": "code",
   "execution_count": 8,
   "metadata": {},
   "outputs": [
    {
     "name": "stdout",
     "output_type": "stream",
     "text": [
      "Poppy-Torso, poppy-Humanoid, et toute la family\n"
     ]
    }
   ],
   "source": [
    "for i in range(3):\n",
    "    ergo.m6.goto_position(-20,1,wait=True)\n",
    "    ergo.m6.goto_position(+20,1,wait=True)\n",
    "ergo.m6.goto_position(0,0.5)\n",
    "\n",
    "print( \"Poppy-Torso, poppy-Humanoid, et toute la family\")"
   ]
  },
  {
   "cell_type": "markdown",
   "metadata": {},
   "source": [
    "Plus d'informations sur les prochaines créatures Poppy sur ce topic : [Poppy mini family](https://poppy.discourse.group/t/cfc-extending-the-poppy-mini-family-we-need-your-help/1346)"
   ]
  },
  {
   "cell_type": "code",
   "execution_count": 9,
   "metadata": {},
   "outputs": [],
   "source": [
    "# éteindre la simulation active...\n",
    "import pypot\n",
    "ergo.stop_simulation()\n",
    "pypot.vrep.close_all_connections()"
   ]
  },
  {
   "cell_type": "markdown",
   "metadata": {},
   "source": [
    "## Instancier Poppy-Humanoïd :"
   ]
  },
  {
   "cell_type": "code",
   "execution_count": 1,
   "metadata": {},
   "outputs": [],
   "source": [
    "from poppy_humanoid import PoppyHumanoid\n",
    "poppy = PoppyHumanoid(simulator='vrep')"
   ]
  },
  {
   "cell_type": "markdown",
   "metadata": {},
   "source": [
    "> Si un boite de dialogue s'ouvre dans la fenêtre de V-REP, alors, répéter autant de fois que nécessaire : cocher la case, fermer la boite, redémarrer le noyau (Kernel) de ce notebook puis relancer la cellule prédente..."
   ]
  },
  {
   "cell_type": "code",
   "execution_count": 2,
   "metadata": {},
   "outputs": [],
   "source": [
    "# Poppy salut\n",
    "poppy.l_shoulder_x.goto_position(90,2)\n",
    "poppy.l_arm_z.goto_position(90,2)\n",
    "poppy.abs_z.goto_position(10,2)\n",
    "poppy.l_elbow_y.goto_position(-120,2,wait=True)\n",
    "\n",
    "for i in range(3):\n",
    "    poppy.l_elbow_y.goto_position(-90,0.5,wait=True)\n",
    "    poppy.l_elbow_y.goto_position(-120,0.5,wait=True)\n",
    "    \n",
    "poppy.l_shoulder_x.goto_position(0,2)\n",
    "poppy.l_arm_z.goto_position(0,2)\n",
    "poppy.abs_z.goto_position(0,2)\n",
    "poppy.l_elbow_y.goto_position(0,2)"
   ]
  },
  {
   "cell_type": "code",
   "execution_count": 3,
   "metadata": {},
   "outputs": [],
   "source": [
    "# éteindre la simulation active...\n",
    "import pypot\n",
    "poppy.stop_simulation()\n",
    "pypot.vrep.close_all_connections()"
   ]
  },
  {
   "cell_type": "markdown",
   "metadata": {},
   "source": [
    "## Instancier Poppy-Torso :"
   ]
  },
  {
   "cell_type": "code",
   "execution_count": 4,
   "metadata": {},
   "outputs": [],
   "source": [
    "from poppy_torso import PoppyTorso\n",
    "torso = PoppyTorso(simulator='vrep')"
   ]
  },
  {
   "cell_type": "code",
   "execution_count": 5,
   "metadata": {},
   "outputs": [],
   "source": [
    "# Torso danse\n",
    "torso.head_z.goto_position(40,1,wait='True')\n",
    "torso.head_z.goto_position(-40,1,wait='True')\n",
    "torso.head_z.goto_position(40,1,wait='True')\n",
    "torso.head_z.goto_position(-40,1,wait='True')\n",
    "torso.head_z.goto_position(0,1,wait='True')\n",
    "torso.r_shoulder_x.goto_position(-90,2)\n",
    "torso.l_shoulder_x.goto_position(90,2)\n",
    "torso.l_arm_z.goto_position(90,2)\n",
    "torso.r_arm_z.goto_position(50,2,wait='True')\n",
    "torso.r_shoulder_x.goto_position(0,2)\n",
    "torso.l_shoulder_x.goto_position(0,2)\n",
    "torso.l_arm_z.goto_position(0,2)\n",
    "torso.r_arm_z.goto_position(0,2,wait='True')\n",
    "torso.r_shoulder_x.goto_position(-90,2)\n",
    "torso.l_shoulder_x.goto_position(90,2)\n",
    "torso.l_arm_z.goto_position(-50,2)\n",
    "torso.r_arm_z.goto_position(-90,2,wait='True')\n",
    "torso.r_shoulder_x.goto_position(0,2)\n",
    "torso.l_shoulder_x.goto_position(0,2)\n",
    "torso.l_arm_z.goto_position(0,2)\n",
    "torso.r_arm_z.goto_position(0,2,wait='True')\n",
    "\n",
    "torso.l_arm_z.goto_position(90,3)\n",
    "torso.r_arm_z.goto_position(-90,3,wait='True')\n",
    "torso.r_arm_z.goto_position(0,3)\n",
    "torso.l_arm_z.goto_position(0,3,wait='True')\n",
    "torso.l_arm_z.goto_position(90,3)\n",
    "torso.r_arm_z.goto_position(-90,3,wait='True')\n",
    "torso.r_arm_z.goto_position(0,3)\n",
    "torso.l_arm_z.goto_position(0,3,wait='True')\n",
    "torso.r_shoulder_x.goto_position(-90,3)\n",
    "torso.l_shoulder_x.goto_position(90,3,wait='True')\n",
    "torso.r_shoulder_y.goto_position(30,3)\n",
    "torso.l_shoulder_y.goto_position(-30,3,wait='True')\n",
    "torso.r_shoulder_y.goto_position(-30,3)\n",
    "torso.l_shoulder_y.goto_position(30,3,wait='True')\n",
    "for m in torso.motors : \n",
    "    m.goto_position(0,1)"
   ]
  },
  {
   "cell_type": "code",
   "execution_count": 6,
   "metadata": {},
   "outputs": [],
   "source": [
    "# éteindre la simulation active...\n",
    "import pypot\n",
    "torso.stop_simulation()\n",
    "pypot.vrep.close_all_connections()"
   ]
  },
  {
   "cell_type": "markdown",
   "metadata": {},
   "source": [
    "## A vous de jouer, soyez créatif..."
   ]
  },
  {
   "cell_type": "code",
   "execution_count": null,
   "metadata": {},
   "outputs": [],
   "source": [
    "# Votre code ici..."
   ]
  },
  {
   "cell_type": "markdown",
   "metadata": {},
   "source": [
    "# Ressources :\n",
    "\n",
    "- https://www.poppy-education.org/\n",
    "- https://www.poppy-project.org/en/\n",
    "- https://github.com/poppy-project"
   ]
  }
 ],
 "metadata": {
  "kernelspec": {
   "display_name": "Python 3",
   "language": "python",
   "name": "python3"
  },
  "language_info": {
   "codemirror_mode": {
    "name": "ipython",
    "version": 3
   },
   "file_extension": ".py",
   "mimetype": "text/x-python",
   "name": "python",
   "nbconvert_exporter": "python",
   "pygments_lexer": "ipython3",
   "version": "3.8.5"
  }
 },
 "nbformat": 4,
 "nbformat_minor": 2
}

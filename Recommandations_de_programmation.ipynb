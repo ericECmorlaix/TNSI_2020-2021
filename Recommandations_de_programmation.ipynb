{
 "cells": [
  {
   "cell_type": "markdown",
   "metadata": {
    "colab_type": "text",
    "id": "R6mPZdWUbcvE"
   },
   "source": [
    "<h1>Quelques principes de programmation afin d'anticiper des erreurs algorithmiques ou d'exécution.</h1>\n",
    "\n",
    "<h3>Eviter de développer des dizaines de lignes de code dans un seul bloc.</h3>\n",
    "\n",
    "  Il vaut mieux découper son algorithme en fonctions où chaque fonction réalise une tâche précise. Ces fonctions pourront être éventuellement réutilisées ensuite dans un autre contexte. Recommencer à coder une solution c'est investir à nouveau du temps de développement, de degogage, de documentation, ... De plus, il est toujours plus compliqué de chercher une erreur d'algorithme dans 200 lignes de code que dans une des 20 fonctions de 10 lignes chacune.\n",
    "  \n",
    "  > Revoir : [Fonctions_et_modularisation.ipynb](https://nbviewer.jupyter.org/github/ericECmorlaix/1NSI_2019-2020/blob/master/Fonctions_et_modularisation.ipynb)\n",
    "\n",
    "<h3>Anticiper une réutilisation du code</h3>\n",
    "\n",
    "  C'est pourquoi, plutôt que de coder un algorithme en réponse à une tâche précise, il est souvent intéressant de coder des fonctions qui permettent de répondre à un cahier des charges plus large que le cas de figure rencontré, même si on prend en compte des possibilités qui ne concerne pas le cahier des charges à priori. Cela évite d'avoir à recoder des fonctions similaires par la suite.\n",
    "  \n",
    "*Exemple :\n",
    "Cahier des charges : demander à l'utilisateur de saisir une note comprise entre 0 et 20 au clavier.*\n"
   ]
  },
  {
   "cell_type": "code",
   "execution_count": null,
   "metadata": {
    "colab": {},
    "colab_type": "code",
    "id": "Q5-h4u39duCT"
   },
   "outputs": [],
   "source": [
    "def saisir_note_V1 ( ) -> float :\n",
    "  \"\"\"\n",
    "  ATTENTION : La vérification de la saisie faite par l'utilisateur n'est pas codée ici !\n",
    "  Entrée : rien\n",
    "  Sortie : la valeur entrée au clavier transtypée au format float\n",
    "  \"\"\"\n",
    "  saisie_ok = False\n",
    "  while saisie_ok == False :\n",
    "    saisie = input(\"Entrez une note comprise entre 0 et 20 ->\")\n",
    "    saisie.replace(',','.') # prévoir de remplacer le séparateur décimal au cas où ...\n",
    "    note = float(saisie)\n",
    "    if not 0<= note <=20 : \n",
    "      print(\"==== La note doit être comprise entre 0 et 20 inclus ====\")\n",
    "    else :\n",
    "      saisie_ok = True\n",
    "  return note"
   ]
  },
  {
   "cell_type": "code",
   "execution_count": null,
   "metadata": {
    "colab": {
     "base_uri": "https://localhost:8080/",
     "height": 93
    },
    "colab_type": "code",
    "id": "yJumO-1lZPot",
    "outputId": "8a057109-e156-4ee2-ccfc-15c39255150f"
   },
   "outputs": [],
   "source": [
    "\"\"\"\n",
    "Dans ce bloc, vous pouvez tester l'appel de la fonction saisir_note_V1()\n",
    "\"\"\"\n",
    "print(saisir_note_V1 ())"
   ]
  },
  {
   "cell_type": "markdown",
   "metadata": {
    "colab_type": "text",
    "id": "Bd2a7XeHN-s2"
   },
   "source": [
    "On peut envisager de coder la fonction avec les limites [ mini ; maxi ] passées en argument. \n",
    "\n",
    "**Petite précision** ici, on peut donner des valeurs par défaut aux arguments. A savoir, si l'utilisateur ne précise pas la valeur de mini et de maxi dans son appel de fonction alors ceux-ci prendront **par défaut** les valeurs indiquées dans l'entête de la fonction.\n",
    "\n",
    "Ainsi, l'appel précédent <code> saisir_note( ) </code> reste valable et aura le même effet que <code> saisir_note( 0, 20 ) </code>."
   ]
  },
  {
   "cell_type": "code",
   "execution_count": null,
   "metadata": {
    "colab": {},
    "colab_type": "code",
    "id": "YniVyo1COKHk"
   },
   "outputs": [],
   "source": [
    "def saisir_note_V2 (mini:float=0, maxi:float=20 ) -> float :\n",
    "  \"\"\"\n",
    "  ATTENTION : La vérification de la saisie faite par l'utilisateur n'est pas codée ici !\n",
    "  Entrée : rien\n",
    "  Sortie : la valeur entrée au clavier transtypée au format float\n",
    "  \"\"\"\n",
    "  saisie_ok = False\n",
    "  while saisie_ok == False :\n",
    "    saisie = input(f\"Entrez une note comprise entre {mini} et {maxi} ->\")\n",
    "    saisie.replace(',','.') # prévoir de remplacer le séparateur décimal au cas où ...\n",
    "    note = float(saisie)\n",
    "    if not mini<= note <=maxi : \n",
    "      print(f\"==== La note doit être comprise entre {mini} et {maxi} inclus ====\")\n",
    "    else :\n",
    "      saisie_ok = True\n",
    "  return note"
   ]
  },
  {
   "cell_type": "code",
   "execution_count": null,
   "metadata": {
    "colab": {},
    "colab_type": "code",
    "id": "f0FPxA_GaI1y"
   },
   "outputs": [],
   "source": [
    "\"\"\"\n",
    "Tester l'appel à la fonction saisir_note_V2\n",
    "\"\"\"\n",
    "print( saisir_note_V2 ( )) # Tester l'appel avec les valeurs par défaut\n",
    "print( saisir_note_V2 ( -10, 45))\n",
    "print( saisir_note_V2 (0, 10))"
   ]
  },
  {
   "cell_type": "markdown",
   "metadata": {
    "colab_type": "text",
    "id": "HvO1BcY5RAzv"
   },
   "source": [
    "<h3>Utiliser des assertions comme \"garde fou\"</h3>\n",
    "\n",
    "  <code>assert condition,\"texte d'explication\"</code>"
   ]
  },
  {
   "cell_type": "code",
   "execution_count": null,
   "metadata": {
    "colab": {},
    "colab_type": "code",
    "id": "JBjkZDrORRUz"
   },
   "outputs": [],
   "source": [
    "def valeur_milieu ( mini:int=0, maxi:int=20) -> float :\n",
    "  \"\"\"\n",
    "  Objectif : cette fonction retourne la valeur située au milieu de l'intervalle [mini; maxi]\n",
    "  Entrée : mini, maxi, les valeurs limites\n",
    "  Sortie = la valeur intermédaire entre mini et maxi\n",
    "  \"\"\"\n",
    "  assert type (mini)==int,\"Explication de l'erreur : \\n valeur_milieu(mini, maxi) -> les arguments doivent être de type [ int ]\"\n",
    "  assert mini>=0 and maxi<=20, \"Explication de l'erreur : \\n valeur_milieu(mini, maxi) -> la valeur des arguments doit respecter les conditions : mini>=0 et maxi <=20\"\n",
    "  print(\"Ok, les conditions sont respectées ...\")\n",
    "  return # A vous de modifier le code pour repondre au cahier des charges"
   ]
  },
  {
   "cell_type": "code",
   "execution_count": null,
   "metadata": {
    "colab": {},
    "colab_type": "code",
    "id": "SH_VNpCsac7W"
   },
   "outputs": [],
   "source": [
    "\"\"\" ##############  A FAIRE  ##############  \n",
    "1 -> Préciser le calcul à coder dans l'instruction [ return ...] de la fonction valeur_milieu ( ... )\n",
    "de telle sorte qu'elle retourne le résultat du calcul pour déterminer la valeur intermédiaire\n",
    "entre mini et maxi\n",
    "2 -> Coder trois appels différents à la fonction valeur_milieu avec différents paramètres\n",
    "  pour vérifier le fonctionnement des assertions en cas de respect ou non des conditions prévues ...\n",
    "\"\"\"\n",
    "valeur_milieu('a',45)\n"
   ]
  },
  {
   "cell_type": "markdown",
   "metadata": {
    "colab_type": "text",
    "id": "2MnY_yONVE21"
   },
   "source": [
    "<h3>Gérer les situations problématiques sans provoquer de message d'erreur ou de \"plantage\"</h3>\n",
    "<h4> try : ... raise ... except ... :</h4>\n",
    "\n",
    "  Si on souhaite éviter une situation de plantage lors d'une erreur, il faut gérer les erreurs provoquées lors de l'exécution de la fonction.\n",
    "\n",
    "*Exemple : un système automatisé doit être capable d'indiquer qu'une commande est incorrecte sans pour cela s'arrêter*\n",
    "\n",
    "<code>\n",
    "  try : <br>\n",
    "&nbsp;&nbsp;&nbsp;if not {condition à respecter} :<br>\n",
    "&nbsp;&nbsp;&nbsp;&nbsp;&nbsp;&nbsp;raise {type d'erreur}()<br>\n",
    "&nbsp;&nbsp;&nbsp;except {type d'erreur} :<br>\n",
    "&nbsp;&nbsp;&nbsp;&nbsp;&nbsp;&nbsp;*Gérer la situation avant de sortir de la fonction*\n",
    "</code><br>\n",
    "\n",
    "Sources d'informations à lire :\n",
    "  - https://docs.python.org/fr/3.5/tutorial/errors.html\n",
    "  - https://openclassrooms.com/fr/courses/235344-apprenez-a-programmer-en-python/231688-gerez-les-exceptions\n"
   ]
  },
  {
   "cell_type": "code",
   "execution_count": null,
   "metadata": {
    "colab": {},
    "colab_type": "code",
    "id": "9e6GKCuX6eEF"
   },
   "outputs": [],
   "source": [
    "\"\"\" ###################  A FAIRE ###################\n",
    "- lire et comprendre les différents type de déclaration et gestion d'erreur\n",
    "- compléter les instructions nécessaires pour prendre en compte les erreurs de typage des données contenues dans la liste notes[]\n",
    "voir # ==> ...\n",
    "- calculer la moyenne et retourner la valeur obtenue\n",
    "\"\"\"\n",
    "def valeur_moyenne ( notes:list )-> float :\n",
    "  \"\"\"\n",
    "  Cette fonction calcule la moyenne des notes contenues dans la liste notes[]\n",
    "  Entrée : notes -> liste de notes de type float\n",
    "  Sortie : la moyenne des valeurs contenues dans la liste\n",
    "  Si le calcul de la moyenne est impossible, la fonction retourne None \n",
    "  \"\"\"\n",
    "  try :\n",
    "    # Si notes n'est pas de type list générer une erreur de typage\n",
    "    assert type(notes)==list,\"## erreur ## -> notes doit être de type list\"\n",
    "    # Si la liste est vide générer une erreur de type ValueError()\n",
    "    if len(notes)==0 :\n",
    "        raise ValueError(\"Erreur de valeurs : la variable { notes[] } est une liste vide.\")\n",
    "    # Si la liste contient une valeur d'un autre type que float ou int, générer une erreur de type TypeError()\n",
    "    #==> ... à compléter  (\"Erreur de typage de donnée : les données contenues dans { notes[] } doivent être de type int ou float.\")\n",
    "\n",
    "    # calculer la moyenne et retourner le résultat du calcul\n",
    "    # ==> ... à compléter\n",
    "\n",
    "  except AssertionError :\n",
    "    print(\"Fonction { valeur_moyenne ( notes ) } \\n Erreur de typage : la variable { notes[] } doit être de type list. Elle doit contenir les notes.\")\n",
    "  except ValueError :\n",
    "    print(\"Fonction { valeur_moyenne ( notes ) } \\n Veuillez vérifier les valeurs contenues dans la variables { notes[] }\") \n",
    "  except TypeError :\n",
    "    print(\"Fonction { valeur_moyenne ( notes ) } \\n Veuillez vérifier les types de données contenus dans la variables{ notes [ ] }\"\n"
   ]
  },
  {
   "cell_type": "code",
   "execution_count": null,
   "metadata": {
    "colab": {},
    "colab_type": "code",
    "id": "HTGqtH6NC0um"
   },
   "outputs": [],
   "source": [
    "#test n°1 : tout doit être ok et la fonction doit retourner 2.5 lorsque le calcul de la moyenne sera complété\n",
    "print(valeur_moyenne( [1, 2, 3, 4]))"
   ]
  },
  {
   "cell_type": "code",
   "execution_count": null,
   "metadata": {
    "colab": {},
    "colab_type": "code",
    "id": "pUqt5JPKDLpT"
   },
   "outputs": [],
   "source": [
    "#test n°2 : une erreur doit se produire : la variable notes est une liste vide\n",
    "valeur_moyenne( [] )"
   ]
  },
  {
   "cell_type": "code",
   "execution_count": null,
   "metadata": {
    "colab": {},
    "colab_type": "code",
    "id": "hq_qinnkDZA-"
   },
   "outputs": [],
   "source": [
    "#test n°3 : une erreur doit se produire : notes contient un str (partie à compléter)\n",
    "valeur_moyenne([1, 2, 3, 'a'])"
   ]
  },
  {
   "cell_type": "code",
   "execution_count": null,
   "metadata": {
    "colab": {},
    "colab_type": "code",
    "id": "BaoymOMiDgqH"
   },
   "outputs": [],
   "source": [
    "#test n°4 : une erreur doit se produire : ici notes n'est pas de type list mais str\n",
    "valeur_moyenne('4')"
   ]
  },
  {
   "cell_type": "markdown",
   "metadata": {
    "colab_type": "text",
    "id": "ltWzV_IsEnCM"
   },
   "source": [
    "<h3>Développer son algorithme grace aux commentaires</h3>\n",
    "\n",
    "  Avant de commencer à coder assurez vous d'avoir une idée claire de vote algorithme. \n",
    "  \n",
    "  Une méthode efficace consiste à :\n",
    "  \n",
    "  1. Ecrire son algorithme sous forme de commentaires\n",
    "  \n",
    "  2. Si certaines parties de l'algorithme ne sont pas encore suffisamment précises, elles pourront être détaillées ensuite dans une fonction spécifique\n",
    "  \n",
    "  3. Lorsque des fonctions ou méthodes sont stables et éprouvées, elles  peuvent être placées dans des bibliothèques pour alléger la lecture du code... => [Fonctions_et_modularisation.ipynb#Modules-:](https://nbviewer.jupyter.org/github/ericECmorlaix/1NSI_2019-2020/blob/master/Fonctions_et_modularisation.ipynb#Modules-:)\n",
    "  \n",
    "  "
   ]
  },
  {
   "cell_type": "markdown",
   "metadata": {
    "colab": {},
    "colab_type": "code",
    "id": "WfxBJDDml8lH"
   },
   "source": [
    "<a rel=\"license\" href=\"http://creativecommons.org/licenses/by-sa/4.0/\"><img alt=\"Licence Creative Commons\" style=\"border-width:0\" src=\"https://i.creativecommons.org/l/by-sa/4.0/88x31.png\" /></a><br />Adapté d'un travail de Jacques CHOUTEAU, ce document est mis à disposition selon les termes de la <a rel=\"license\" href=\"http://creativecommons.org/licenses/by-sa/4.0/\">Licence Creative Commons Attribution -  Partage dans les Mêmes Conditions 4.0 International</a>.\n",
    "\n",
    "Pour toute question, suggestion ou commentaire : <a href=\"mailto:eric.madec@ecmorlaix.fr\">eric.madec@ecmorlaix.fr</a>"
   ]
  },
  {
   "cell_type": "code",
   "execution_count": null,
   "metadata": {},
   "outputs": [],
   "source": []
  }
 ],
 "metadata": {
  "colab": {
   "collapsed_sections": [],
   "name": "Principe de codage.ipynb",
   "provenance": []
  },
  "kernelspec": {
   "display_name": "Python 3",
   "language": "python",
   "name": "python3"
  },
  "language_info": {
   "codemirror_mode": {
    "name": "ipython",
    "version": 3
   },
   "file_extension": ".py",
   "mimetype": "text/x-python",
   "name": "python",
   "nbconvert_exporter": "python",
   "pygments_lexer": "ipython3",
   "version": "3.7.3"
  },
  "toc": {
   "base_numbering": 1,
   "nav_menu": {},
   "number_sections": true,
   "sideBar": true,
   "skip_h1_title": false,
   "title_cell": "Table of Contents",
   "title_sidebar": "Contents",
   "toc_cell": false,
   "toc_position": {},
   "toc_section_display": true,
   "toc_window_display": false
  },
  "varInspector": {
   "cols": {
    "lenName": 16,
    "lenType": 16,
    "lenVar": 40
   },
   "kernels_config": {
    "python": {
     "delete_cmd_postfix": "",
     "delete_cmd_prefix": "del ",
     "library": "var_list.py",
     "varRefreshCmd": "print(var_dic_list())"
    },
    "r": {
     "delete_cmd_postfix": ") ",
     "delete_cmd_prefix": "rm(",
     "library": "var_list.r",
     "varRefreshCmd": "cat(var_dic_list()) "
    }
   },
   "types_to_exclude": [
    "module",
    "function",
    "builtin_function_or_method",
    "instance",
    "_Feature"
   ],
   "window_display": false
  }
 },
 "nbformat": 4,
 "nbformat_minor": 1
}

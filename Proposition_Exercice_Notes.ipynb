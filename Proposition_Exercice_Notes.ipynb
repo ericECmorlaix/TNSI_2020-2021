{
 "cells": [
  {
   "cell_type": "markdown",
   "metadata": {},
   "source": [
    "#### Exercice 1 : Série de notes\n",
    "Écrire un programme qui permet :\n",
    "- de demander à l’utilisateur combien de notes il souhaite saisir → [ n ]\n",
    "\n",
    "- de saisir les [ n ] notes comprise entre [ 0 ; 20 ]\n",
    "- d’afficher la note la plus faible et la note la plus élevée\n",
    "- de calculer la moyenne"
   ]
  },
  {
   "cell_type": "code",
   "execution_count": null,
   "metadata": {},
   "outputs": [],
   "source": [
    "# Construction du programme à développer à l'aide des commentaires :\n",
    "\n",
    "# demander à l’utilisateur combien de notes il souhaite saisir → [ n ]\n",
    "nb_notes = demander_entier(\"Combien de notes sont à saisir ? \")\n",
    "\n",
    "# saisir les [ n ] notes comprise entre [ 0 ; 20 ]\n",
    "notes = [ # A développer...] \n",
    "\n",
    "# afficher la note la plus faible et la note la plus élevée\n",
    "print(f\"La note mini est {minimum_table(notes)}\")\n",
    "print(f\"La note maxi est {maximum_table(notes)}\")\n",
    "\n",
    "# de calculer la moyenne\n",
    "print(f\"La moyenne des notes est {moyenne_table(notes)}\")"
   ]
  },
  {
   "cell_type": "code",
   "execution_count": null,
   "metadata": {},
   "outputs": [],
   "source": [
    "def demander_entier_V1(message : str) -> int :\n",
    "    \"\"\" ==================================================================================================================\n",
    "    \n",
    "        * Description : \n",
    "            Je demande à l'utilisateur un nombre correspondant à la question du message et renvoie le résultat au format entier ;\n",
    "                > Remarque : Ici, pas de gestion de vérification de validité de la saisie utilisateur.\n",
    "                        \n",
    "        * Exemple :\n",
    "            >>> demander_entier(\"Combien de notes sont à saisir ? \")\n",
    "            Combien de notes sont à saisir ? 5\n",
    "            5\n",
    "                    \n",
    "        * Préconditions :\n",
    "            message (str) : question définissant le nombre à saisir ;\n",
    "                    \n",
    "        * Postconditions :\n",
    "            (int) : la valeur saisie convertie en entier.       \n",
    "        \n",
    "        ==================================================================================================================\n",
    "    \"\"\"\n",
    "    # Assertions de vérification des préconditions :\n",
    "    assert type(message) == str  , \"Le message doit être une chaine de caractères.\"\n",
    "            \n",
    "    # bloc d'instructions :\n",
    "    nombre = int(input(message))\n",
    "    return nombre"
   ]
  },
  {
   "cell_type": "code",
   "execution_count": null,
   "metadata": {},
   "outputs": [],
   "source": [
    "help(demander_entier_V1)"
   ]
  },
  {
   "cell_type": "code",
   "execution_count": null,
   "metadata": {},
   "outputs": [],
   "source": [
    "demander_entier_V1(\"Combien de notes sont à saisir ? \")"
   ]
  },
  {
   "cell_type": "code",
   "execution_count": null,
   "metadata": {},
   "outputs": [],
   "source": [
    "def demander_entier_V2(message : str) -> int :\n",
    "    \"\"\" ==================================================================================================================\n",
    "    \n",
    "        * Description : \n",
    "            Je demande à l'utilisateur un nombre correspondant à la question du message et renvoie le résultat au format entier ;\n",
    "                > avec une gestion de vérification de la validité de la saisie utilisateur.\n",
    "                        \n",
    "        * Exemple :\n",
    "            >>> demander_entier(\"Combien de notes sont à saisir ? \")\n",
    "            Combien de notes sont à saisir ? 5\n",
    "            5\n",
    "                                           \n",
    "        * Préconditions :\n",
    "            message (str) : question définissant le nombre à saisir ;\n",
    "                    \n",
    "        * Postconditions :\n",
    "            (int) : la valeur saisie convertie en entier.       \n",
    "        \n",
    "        ==================================================================================================================\n",
    "    \"\"\"\n",
    "    # Assertions de vérification des préconditions :\n",
    "    assert type(message) == str  , \"Le message doit être une chaine de caractères.\"\n",
    "            \n",
    "    # bloc d'instructions :\n",
    "    try :\n",
    "        nombre = int(input(message))\n",
    "        return nombre\n",
    "    except ValueError :\n",
    "        print(\"La valeur saisie doit être convertible en un nombre entier exprimé en base 10 : \\n    -> la saisie ne doit pas contenir d'autres caractères que 0, 1, 2, 3, 4, 5, 6, 7, 8, 9\")\n",
    "        "
   ]
  },
  {
   "cell_type": "code",
   "execution_count": null,
   "metadata": {},
   "outputs": [],
   "source": [
    "demander_entier_V2(\"Combien de notes sont à saisir ? \")"
   ]
  }
 ],
 "metadata": {
  "kernelspec": {
   "display_name": "Python 3",
   "language": "python",
   "name": "python3"
  },
  "language_info": {
   "codemirror_mode": {
    "name": "ipython",
    "version": 3
   },
   "file_extension": ".py",
   "mimetype": "text/x-python",
   "name": "python",
   "nbconvert_exporter": "python",
   "pygments_lexer": "ipython3",
   "version": "3.7.3"
  },
  "toc": {
   "base_numbering": 1,
   "nav_menu": {},
   "number_sections": true,
   "sideBar": true,
   "skip_h1_title": false,
   "title_cell": "Table of Contents",
   "title_sidebar": "Contents",
   "toc_cell": false,
   "toc_position": {},
   "toc_section_display": true,
   "toc_window_display": false
  },
  "varInspector": {
   "cols": {
    "lenName": 16,
    "lenType": 16,
    "lenVar": 40
   },
   "kernels_config": {
    "python": {
     "delete_cmd_postfix": "",
     "delete_cmd_prefix": "del ",
     "library": "var_list.py",
     "varRefreshCmd": "print(var_dic_list())"
    },
    "r": {
     "delete_cmd_postfix": ") ",
     "delete_cmd_prefix": "rm(",
     "library": "var_list.r",
     "varRefreshCmd": "cat(var_dic_list()) "
    }
   },
   "types_to_exclude": [
    "module",
    "function",
    "builtin_function_or_method",
    "instance",
    "_Feature"
   ],
   "window_display": false
  }
 },
 "nbformat": 4,
 "nbformat_minor": 4
}

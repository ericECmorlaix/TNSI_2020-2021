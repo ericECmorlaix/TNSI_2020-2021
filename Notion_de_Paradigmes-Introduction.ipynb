{
 "cells": [
  {
   "cell_type": "markdown",
   "metadata": {},
   "source": [
    "# Paradigmes de programmation\n",
    "\n",
    "\n",
    "Il existe de nombreuses façons de programmer une machine, différents schéma de pensée qui sont apparus et ont évolués au cours du temps, ce sont les **[paradigmes de programmation](https://fr.wikipedia.org/wiki/Paradigme_(programmation))**.\n",
    "\n",
    "\n",
    "Les langages de programmation sont nombreux et variés.\n",
    "Il n’est pas inusuel qu’un langage appartienne à plusieurs de ces paradigmes, c’est par exemple le cas de Python.\n",
    "\n",
    "Certains de ces paradigmes sont mieux adaptés que d’autres pour traiter des problèmes spécifiques.\n",
    "On verra aussi ultérieurement qu’il est possible d’utiliser plusieurs paradigmes à l’intérieur d’un même programme.\n",
    "\n",
    "Les paradigmes principaux sont impératif, objet, déclaratif."
   ]
  },
  {
   "cell_type": "code",
   "execution_count": 1,
   "metadata": {},
   "outputs": [
    {
     "data": {
      "text/html": [
       "<center>\n",
       "<iframe width=\"560\" height=\"315\" src=\"https://www.youtube.com/embed/5D7Shf9nG0Q\" frameborder=\"0\" allow=\"accelerometer; autoplay; encrypted-media; gyroscope; picture-in-picture\" allowfullscreen></iframe>\n",
       "</center>\n"
      ],
      "text/plain": [
       "<IPython.core.display.HTML object>"
      ]
     },
     "metadata": {},
     "output_type": "display_data"
    }
   ],
   "source": [
    "%%HTML\n",
    "<center>\n",
    "<iframe width=\"560\" height=\"315\" src=\"https://www.youtube.com/embed/5D7Shf9nG0Q\" frameborder=\"0\" allow=\"accelerometer; autoplay; encrypted-media; gyroscope; picture-in-picture\" allowfullscreen></iframe>\n",
    "</center>"
   ]
  },
  {
   "cell_type": "markdown",
   "metadata": {},
   "source": [
    "## Programmation impérative :\n",
    "\n",
    "Le paradigme sinon le plus ancien, tout au moins le plus traditionnel, est le **paradigme impératif**.\n",
    "\n",
    "Les premiers programmes ont été conçus sur ce principe :\n",
    "\n",
    "- Une suite d’instructions qui s’exécutent séquentiellement, les unes après les autres ;\n",
    "\n",
    "    Ces instructions comportent :\n",
    "    - Affectations\n",
    "    - Boucles (pour.., tant que…, répéter…jusqu’à…)\n",
    "    - Conditions (si…sinon)\n",
    "    - Branchement/saut sans condition\n",
    "    \n",
    "    \n",
    "- La programmation impérative actuelle limite autant que possible les sauts sans condition. Ce sous-paradigme est appelé **programmation structurée** :\n",
    "    \n",
    "    Les sauts sont utilisés en assembleur (instructions BR adr, « branch vers adresse » ).\n",
    "    \n",
    "    En Python, on limite ainsi l’utilisation du `break` à certains cas particuliers.\n",
    "    \n",
    "    A l’inverse, une programmation utilisant de nombreux sauts est qualifié de « programmation spaghetti », pour la « clarté » toute relative avec laquelle on peut le dérouler. Certains langages conduisent facilement  à ce style de code (BASIC, FORTRAN,…)\n",
    "    \n",
    "    \n",
    "- L’usage des fonctions comme vu en première est aussi une variante de la programmation impérative, appelée **programmation procédurale**.\n",
    "    Elle permet de mieux suivre l’exécution d’un programme, de le rendre plus facile à concevoir et à maintenir, et aussi d’utiliser des bibliothèques."
   ]
  },
  {
   "cell_type": "markdown",
   "metadata": {},
   "source": [
    ">>>>> **Rappels de programmation impérative structurée et procédurale en Python...**\n",
    "\n",
    "<h3 class='fa fa-code' style=\"color: darkorange\"> Activités de rappels à faire :</h3>\n",
    "\n",
    "#### Exercice 1 : Série de notes\n",
    "Écrire un programme qui permet :\n",
    "- de demander à l’utilisateur combien de notes il souhaite saisir → [ n ]\n",
    "- de saisir les [ n ] notes comprise entre [ 0 ; 20 ]\n",
    "- d’afficher la note la plus faible et la note la plus élevée\n",
    "- de calculer la moyenne\n",
    "\n",
    "#### TP : Clé de vérification du code ISBN d’un livre\n",
    "\n",
    "A l'aide du [document ressource](res_ISBN.pdf), écrire un programme qui vérifie que le code ISBN saisi ne contient pas d’erreur.\n",
    "\n",
    "Afin de vérifier les codes suivants :\n",
    "\n",
    "![Codes à vérifier](https://isn-icn-ljm.pagesperso-orange.fr/1-NSI/res/image_isbn2_1.png)\n",
    "\n",
    "<h3 class='fa fa-rocket' style=\"color: tomato\"> Pour les plus courageux..., à faire vous même :</h3>\n",
    "\n",
    "#### Exercice 2 : Équation du second degré\n",
    "Écrire un programme qui :\n",
    "- contient une fonction [ discriminant (…) ] qui reçoit en argument les trois coefficients [$a, b, c$] d’une\n",
    "équation du second degré du type $Y = aX^2 + bX + c$ et retourne le discriminant [ delta ] de l’équation.\n",
    "- contient une fonction qui retourne le nombre de solutions réelles ( 0, 1 ou 2 ) et le cas échéant, la ou les\n",
    "solutions de l’équation.\n",
    "- affiche l’équation $Y$ sous la forme de produit de facteurs.\n",
    "\n",
    "\n",
    "#### TP : Clé de vérification d'un numéro de sécurité social sur les cartes Vitale.\n",
    "\n",
    "A l'aide du [document ressource](res_carte_vitale.pdf), écrire un programme qui vérifie que le numéro d'INSEE saisi ne contient pas d’erreur."
   ]
  },
  {
   "cell_type": "code",
   "execution_count": null,
   "metadata": {},
   "outputs": [],
   "source": []
  }
 ],
 "metadata": {
  "kernelspec": {
   "display_name": "Python 3",
   "language": "python",
   "name": "python3"
  },
  "language_info": {
   "codemirror_mode": {
    "name": "ipython",
    "version": 3
   },
   "file_extension": ".py",
   "mimetype": "text/x-python",
   "name": "python",
   "nbconvert_exporter": "python",
   "pygments_lexer": "ipython3",
   "version": "3.7.3"
  },
  "toc": {
   "base_numbering": 1,
   "nav_menu": {},
   "number_sections": true,
   "sideBar": true,
   "skip_h1_title": false,
   "title_cell": "Table of Contents",
   "title_sidebar": "Contents",
   "toc_cell": false,
   "toc_position": {},
   "toc_section_display": true,
   "toc_window_display": false
  },
  "varInspector": {
   "cols": {
    "lenName": 16,
    "lenType": 16,
    "lenVar": 40
   },
   "kernels_config": {
    "python": {
     "delete_cmd_postfix": "",
     "delete_cmd_prefix": "del ",
     "library": "var_list.py",
     "varRefreshCmd": "print(var_dic_list())"
    },
    "r": {
     "delete_cmd_postfix": ") ",
     "delete_cmd_prefix": "rm(",
     "library": "var_list.r",
     "varRefreshCmd": "cat(var_dic_list()) "
    }
   },
   "types_to_exclude": [
    "module",
    "function",
    "builtin_function_or_method",
    "instance",
    "_Feature"
   ],
   "window_display": false
  }
 },
 "nbformat": 4,
 "nbformat_minor": 4
}
